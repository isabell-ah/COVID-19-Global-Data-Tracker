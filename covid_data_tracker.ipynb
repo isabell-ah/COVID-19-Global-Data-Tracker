{
 "cells": [
  {
   "cell_type": "markdown",
   "metadata": {},
   "source": [
    "# COVID-19 Global Data Tracker\n",
    "\n",
    "This Jupyter Notebook analyzes global COVID-19 trends using the Our World in Data dataset. It includes data loading, cleaning, exploratory data analysis (EDA), visualizations, and key insights.\n",
    "\n",
    "## Objectives\n",
    "- Load and clean the COVID-19 dataset.\n",
    "- Analyze trends in cases, deaths, and vaccinations.\n",
    "- Compare metrics across countries (Kenya, USA, India).\n",
    "- Visualize trends with charts and a choropleth map.\n",
    "- Summarize findings in a clear narrative."
   ]
  },
  {
   "cell_type": "code",
   "execution_count": 2,
   "metadata": {},
   "outputs": [],
   "source": [
    "# Import required libraries\n",
    "import pandas as pd\n",
    "import matplotlib.pyplot as plt\n",
    "import seaborn as sns\n",
    "import plotly.express as px\n",
    "import numpy as np\n",
    "\n",
    "# Set seaborn style for better visuals\n",
    "sns.set_style('whitegrid')"
   ]
  },
  {
   "cell_type": "markdown",
   "metadata": {},
   "source": [
    "## 1. Data Loading & Exploration\n",
    "\n",
    "Load the dataset and inspect its structure."
   ]
  },
  {
   "cell_type": "markdown",
   "metadata": {},
   "source": [
    "## 2. Data Cleaning\n",
    "\n",
    "Filter for Kenya, USA, and India, convert dates, and handle missing values."
   ]
  },
  {
   "cell_type": "code",
   "execution_count": null,
   "metadata": {},
   "outputs": [],
   "source": [
    "try:\n",
    "    # Filter for specific countries\n",
    "    countries = ['Kenya', 'United States', 'India']\n",
    "    df = df[df['location'].isin(countries)]\n",
    "\n",
    "    # Convert date to datetime\n",
    "    df['date'] = pd.to_datetime(df['date'])\n",
    "\n",
    "    # Select relevant columns\n",
    "    columns = ['date', 'location', 'total_cases', 'new_cases', 'total_deaths', 'new_deaths', \n",
    "               'total_vaccinations', 'people_vaccinated', 'population']\n",
    "    df = df[columns]\n",
    "\n",
    "    # Handle missing values\n",
    "    # Fill numeric columns with 0 for initial cases/deaths/vaccinations\n",
    "    numeric_cols = ['total_cases', 'new_cases', 'total_deaths', 'new_deaths', 'total_vaccinations', 'people_vaccinated']\n",
    "    df[numeric_cols] = df[numeric_cols].fillna(0)\n",
    "\n",
    "    # Interpolate missing population data\n",
    "    df['population'] = df.groupby('location')['population'].fillna(method='ffill').fillna(method='bfill')\n",
    "\n",
    "    print('\\nMissing Values After Cleaning:')\n",
    "    print(df.isnull().sum())\n",
    "\n",
    "    # Display cleaned data preview\n",
    "    print('\\nCleaned Data Preview:')\n",
    "    display(df.head())\n",
    "\n",
    "except Exception as e:\n",
    "    print(f'Error during cleaning: {str(e)}')"
   ]
  },
  {
   "cell_type": "markdown",
   "metadata": {},
   "source": [
    "## 3. Exploratory Data Analysis (EDA)\n",
    "\n",
    "Analyze trends and compute key metrics."
   ]
  },
  {
   "cell_type": "code",
   "execution_count": null,
   "metadata": {},
   "outputs": [],
   "source": [
    "try:\n",
    "    # Calculate death rate\n",
    "    df['death_rate'] = df['total_deaths'] / df['total_cases'].replace(0, np.nan) * 100\n",
    "\n",
    "    # Calculate vaccination rate (% population vaccinated)\n",
    "    df['vaccination_rate'] = df['people_vaccinated'] / df['population'] * 100\n",
    "\n",
    "    # Basic statistics\n",
    "    print('\\nBasic Statistics:')\n",
    "    display(df[['total_cases', 'total_deaths', 'total_vaccinations', 'death_rate', 'vaccination_rate']].describe())\n",
    "\n",
    "    # Group by country for latest data\n",
    "    latest_data = df.groupby('location').last().reset_index()\n",
    "    print('\\nLatest Metrics by Country:')\n",
    "    display(latest_data[['location', 'total_cases', 'total_deaths', 'death_rate', 'vaccination_rate']])\n",
    "\n",
    "except Exception as e:\n",
    "    print(f'Error during EDA: {str(e)}')"
   ]
  },
  {
   "cell_type": "markdown",
   "metadata": {},
   "source": [
    "## 4. Visualizations\n",
    "\n",
    "Create line charts, bar charts, a heatmap, and a choropleth map."
   ]
  },
  {
   "cell_type": "code",
   "execution_count": null,
   "metadata": {},
   "outputs": [],
   "source": [
    "# Visualization 1: Line Chart - Total Cases Over Time\n",
    "try:\n",
    "    plt.figure(figsize=(12, 6))\n",
    "    for country in countries:\n",
    "        country_data = df[df['location'] == country]\n",
    "        plt.plot(country_data['date'], country_data['total_cases'], label=country)\n",
    "    plt.title('Total COVID-19 Cases Over Time')\n",
    "    plt.xlabel('Date')\n",
    "    plt.ylabel('Total Cases')\n",
    "    plt.legend()\n",
    "    plt.savefig('total_cases_line.png')\n",
    "    plt.close()\n",
    "\n",
    "except Exception as e:\n",
    "    print(f'Error in line chart: {str(e)}')\n",
    "\n",
    "# Visualization 2: Bar Chart - Total Cases by Country (Latest)\n",
    "try:\n",
    "    plt.figure(figsize=(8, 6))\n",
    "    sns.barplot(x='location', y='total_cases', data=latest_data)\n",
    "    plt.title('Total COVID-19 Cases by Country (Latest)')\n",
    "    plt.xlabel('Country')\n",
    "    plt.ylabel('Total Cases')\n",
    "    plt.savefig('total_cases_bar.png')\n",
    "    plt.close()\n",
    "\n",
    "except Exception as e:\n",
    "    print(f'Error in bar chart: {str(e)}')\n",
    "\n",
    "# Visualization 3: Heatmap - Correlation Matrix\n",
    "try:\n",
    "    plt.figure(figsize=(10, 8))\n",
    "    corr = df[['total_cases', 'total_deaths', 'total_vaccinations', 'death_rate', 'vaccination_rate']].corr()\n",
    "    sns.heatmap(corr, annot=True, cmap='coolwarm', vmin=-1, vmax=1)\n",
    "    plt.title('Correlation Matrix of COVID-19 Metrics')\n",
    "    plt.savefig('correlation_heatmap.png')\n",
    "    plt.close()\n",
    "\n",
    "except Exception as e:\n",
    "    print(f'Error in heatmap: {str(e)}')\n",
    "\n",
    "# Visualization 4: Choropleth Map - Total Cases by Country\n",
    "try:\n",
    "    # Prepare data for latest date\n",
    "    latest_df = df[df['date'] == df['date'].max()][['location', 'iso_code', 'total_cases']]\n",
    "    fig = px.choropleth(latest_df, \n",
    "                        locations='iso_code',\n",
    "                        color='total_cases',\n",
    "                        hover_name='location',\n",
    "                        color_continuous_scale=px.colors.sequential.Plasma,\n",
    "                        title='Total COVID-19 Cases by Country (Latest)')\n",
    "    fig.write_to_file('total_cases_choropleth.html')\n",
    "    print('Choropleth map saved as total_cases_choropleth.html')\n",
    "\n",
    "except Exception as e:\n",
    "    print(f'Error in choropleth map: {str(e)}')"
   ]
  },
  {
   "cell_type": "markdown",
   "metadata": {},
   "source": [
    "## 5. Vaccination Progress\n",
    "\n",
    "Visualize vaccination trends."
   ]
  },
  {
   "cell_type": "code",
   "execution_count": null,
   "metadata": {},
   "outputs": [],
   "source": [
    "try:\n",
    "    # Line Chart - Vaccination Rate Over Time\n",
    "    plt.figure(figsize=(12, 6))\n",
    "    for country in countries:\n",
    "        country_data = df[df['location'] == country]\n",
    "        plt.plot(country_data['date'], country_data['vaccination_rate'], label=country)\n",
    "    plt.title('Vaccination Rate (% Population) Over Time')\n",
    "    plt.xlabel('Date')\n",
    "    plt.ylabel('Vaccination Rate (%)')\n",
    "    plt.legend()\n",
    "    plt.savefig('vaccination_rate_line.png')\n",
    "    plt.close()\n",
    "\n",
    "except Exception as e:\n",
    "    print(f'Error in vaccination chart: {str(e)}')"
   ]
  },
  {
   "cell_type": "markdown",
   "metadata": {},
   "source": [
    "## 6. Insights & Findings\n",
    "\n",
    "### Key Insights\n",
    "1. **Case Trends**: The USA has significantly higher total cases than Kenya and India, likely due to its larger population and earlier pandemic impact.\n",
    "2. **Death Rates**: India shows a higher death rate in some periods, possibly due to healthcare system strain.\n",
    "3. **Vaccination Progress**: The USA leads in vaccination rates, followed by India, while Kenya lags, reflecting differences in vaccine access.\n",
    "4. **Correlations**: Total cases and deaths are strongly correlated, but vaccination rates show weaker correlation with case reduction.\n",
    "5. **Anomaly**: Sudden spikes in new cases in India suggest data reporting issues or major outbreaks.\n",
    "\n",
    "This notebook provides a comprehensive analysis of COVID-19 trends, with reproducible code and clear visualizations."
   ]
  },
  {
   "cell_type": "markdown",
   "metadata": {},
   "source": [
    "## 7. Exporting to PDF\n",
    "\n",
    "To export this notebook to PDF:\n",
    "- Use Jupyter: File > Download as > PDF via LaTeX.\n",
    "- Or install `nbconvert` and run: `jupyter nbconvert --to pdf covid_data_tracker.ipynb`."
   ]
  }
 ],
 "metadata": {
  "kernelspec": {
   "display_name": "Python 3",
   "language": "python",
   "name": "python3"
  },
  "language_info": {
   "codemirror_mode": {
    "name": "ipython",
    "version": 3
   },
   "file_extension": ".py",
   "mimetype": "text/x-python",
   "name": "python",
   "nbconvert_exporter": "python",
   "pygments_lexer": "ipython3",
   "version": "3.13.2"
  }
 },
 "nbformat": 4,
 "nbformat_minor": 4
}
